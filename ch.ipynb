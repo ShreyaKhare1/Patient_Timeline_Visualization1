{
 "cells": [
  {
   "cell_type": "code",
   "execution_count": 6,
   "metadata": {},
   "outputs": [
    {
     "name": "stderr",
     "output_type": "stream",
     "text": [
      "[2023-09-23 12:17:52,193] ERROR in app: Exception on /_alive_dfcb6cda-5c78-46a8-a842-b0087a9f7abe [GET]\n",
      "Traceback (most recent call last):\n",
      "  File \"c:\\Users\\lenovo\\AppData\\Local\\Programs\\Python\\Python311\\Lib\\site-packages\\flask\\app.py\", line 2529, in wsgi_app\n",
      "    response = self.full_dispatch_request()\n",
      "               ^^^^^^^^^^^^^^^^^^^^^^^^^^^^\n",
      "  File \"c:\\Users\\lenovo\\AppData\\Local\\Programs\\Python\\Python311\\Lib\\site-packages\\flask\\app.py\", line 1825, in full_dispatch_request\n",
      "    rv = self.handle_user_exception(e)\n",
      "         ^^^^^^^^^^^^^^^^^^^^^^^^^^^^^\n",
      "  File \"c:\\Users\\lenovo\\AppData\\Local\\Programs\\Python\\Python311\\Lib\\site-packages\\flask\\app.py\", line 1821, in full_dispatch_request\n",
      "    rv = self.preprocess_request()\n",
      "         ^^^^^^^^^^^^^^^^^^^^^^^^^\n",
      "  File \"c:\\Users\\lenovo\\AppData\\Local\\Programs\\Python\\Python311\\Lib\\site-packages\\flask\\app.py\", line 2313, in preprocess_request\n",
      "    rv = self.ensure_sync(before_func)()\n",
      "         ^^^^^^^^^^^^^^^^^^^^^^^^^^^^^^^\n",
      "  File \"c:\\Users\\lenovo\\AppData\\Local\\Programs\\Python\\Python311\\Lib\\site-packages\\dash\\dash.py\", line 1330, in _setup_server\n",
      "    _validate.validate_layout(self.layout, self._layout_value())\n",
      "  File \"c:\\Users\\lenovo\\AppData\\Local\\Programs\\Python\\Python311\\Lib\\site-packages\\dash\\_validate.py\", line 416, in validate_layout\n",
      "    raise exceptions.DuplicateIdError(\n",
      "dash.exceptions.DuplicateIdError: Duplicate component id found in the initial layout: `{\"background\":\"#f2f2f2\",\"border\":\"1px solid #ddd\",\"fontWeight\":\"bold\",\"padding\":\"8px\"}`\n"
     ]
    },
    {
     "data": {
      "text/html": [
       "\n",
       "        <iframe\n",
       "            width=\"100%\"\n",
       "            height=\"650\"\n",
       "            src=\"http://127.0.0.1:8050/\"\n",
       "            frameborder=\"0\"\n",
       "            allowfullscreen\n",
       "            \n",
       "        ></iframe>\n",
       "        "
      ],
      "text/plain": [
       "<IPython.lib.display.IFrame at 0x1d878a1d810>"
      ]
     },
     "metadata": {},
     "output_type": "display_data"
    },
    {
     "name": "stdout",
     "output_type": "stream",
     "text": [
      "None\n"
     ]
    }
   ],
   "source": [
    "import pandas as pd\n",
    "import dash\n",
    "from dash import Dash\n",
    "from dash import html\n",
    "from dash import dcc\n",
    "from dash.dash_table import DataTable\n",
    "import dash_bootstrap_components as dbc \n",
    "import plotly.express as px \n",
    "a=pd.read_csv(r\"C:\\Users\\lenovo\\Downloads\\500_Patient_Sample (1).csv\")\n",
    "\n",
    "    \n",
    "    \n",
    "inp=int(input(\"Enter Id\"))\n",
    "d=a[a[\"Patient ID\"]==inp].head()\n",
    "\n",
    "\n",
    "app=Dash()\n",
    "colors = {\n",
    "    \n",
    "    'text': '#7FDBFF'\n",
    "}\n",
    "def generate_table(dataframe, max_rows=10):\n",
    "    table_style = {\n",
    "        'borderCollapse': 'collapse',\n",
    "        'width': '100%',\n",
    "        'background':'#F3EC07'\n",
    "    }\n",
    "    th_style = {\n",
    "        'border': '1px solid #ddd',\n",
    "        'padding': '8px',\n",
    "        'background': '#f2f2f2',\n",
    "        'fontWeight': 'bold',\n",
    "    }\n",
    "    td_style = {\n",
    "        'border': '1px solid green',\n",
    "        'padding': '8px',\n",
    "        'textAlign': 'left',\n",
    "        'color':'#C71156'\n",
    "    }\n",
    "    return html.Table([\n",
    "        html.Thead(\n",
    "            html.Tr([html.Th(col,th_style)for col in dataframe.columns])\n",
    "        ),\n",
    "        html.Tbody([\n",
    "            html.Tr([\n",
    "                html.Td(dataframe.iloc[i][col],style=td_style) for col in dataframe.columns\n",
    "            ]) for i in range(min(len(dataframe), max_rows))\n",
    "            \n",
    "        ]),\n",
    "        \n",
    "    ],\n",
    "    style=table_style)\n",
    "d=d.drop('SNo',axis=1)\n",
    "d=d.drop('Unnamed: 0',axis=1)\n",
    "app.layout = html.Div( children=[\n",
    "    html.H1(\n",
    "        children='Timeline',\n",
    "        style={\n",
    "            'textAlign': 'center',\n",
    "            \n",
    "        }\n",
    "    ),\n",
    "\n",
    "    \n",
    "    html.H4(children='Summary',\n",
    "    style={\n",
    "        'textAlign': 'center',\n",
    "        }),\n",
    "    generate_table(d) \n",
    "    ])\n",
    "\t\n",
    "\n",
    "\n",
    "\n",
    "b=app.run_server()\n",
    "print(b)"
   ]
  }
 ],
 "metadata": {
  "kernelspec": {
   "display_name": "Python 3",
   "language": "python",
   "name": "python3"
  },
  "language_info": {
   "codemirror_mode": {
    "name": "ipython",
    "version": 3
   },
   "file_extension": ".py",
   "mimetype": "text/x-python",
   "name": "python",
   "nbconvert_exporter": "python",
   "pygments_lexer": "ipython3",
   "version": "3.11.0"
  },
  "orig_nbformat": 4
 },
 "nbformat": 4,
 "nbformat_minor": 2
}
